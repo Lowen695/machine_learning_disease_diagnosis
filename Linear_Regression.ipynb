{
 "cells": [
  {
   "cell_type": "code",
   "execution_count": 34,
   "id": "b899c641",
   "metadata": {},
   "outputs": [],
   "source": [
    "import numpy as np\n",
    "import pandas as pd\n",
    "import seaborn as sns\n",
    "import matplotlib.pyplot as plt"
   ]
  },
  {
   "cell_type": "markdown",
   "id": "dfe8e53a",
   "metadata": {},
   "source": [
    "## Numpy matrix"
   ]
  },
  {
   "cell_type": "code",
   "execution_count": 8,
   "id": "d898c565",
   "metadata": {},
   "outputs": [
    {
     "data": {
      "text/plain": [
       "array([[1. , 2. ],\n",
       "       [3. , 0.5]])"
      ]
     },
     "execution_count": 8,
     "metadata": {},
     "output_type": "execute_result"
    }
   ],
   "source": [
    "A = np.array([[1,2],[3,0.5]])\n",
    "A"
   ]
  },
  {
   "cell_type": "code",
   "execution_count": 14,
   "id": "c6dde19e",
   "metadata": {},
   "outputs": [
    {
     "data": {
      "text/plain": [
       "array([[1],\n",
       "       [2],\n",
       "       [3],\n",
       "       [4],\n",
       "       [5],\n",
       "       [6]])"
      ]
     },
     "execution_count": 14,
     "metadata": {},
     "output_type": "execute_result"
    }
   ],
   "source": [
    "A1 = np.arange(1,7).reshape(-1,1)\n",
    "A1"
   ]
  },
  {
   "cell_type": "code",
   "execution_count": 16,
   "id": "0ef9c0c9",
   "metadata": {},
   "outputs": [
    {
     "data": {
      "text/plain": [
       "array([[1, 2, 3],\n",
       "       [4, 5, 6]])"
      ]
     },
     "execution_count": 16,
     "metadata": {},
     "output_type": "execute_result"
    }
   ],
   "source": [
    "A2 = A1.reshape(2,3)\n",
    "A2"
   ]
  },
  {
   "cell_type": "code",
   "execution_count": 18,
   "id": "7c4742b1",
   "metadata": {},
   "outputs": [
    {
     "data": {
      "text/plain": [
       "array([[1., 0., 0., 0.],\n",
       "       [0., 1., 0., 0.],\n",
       "       [0., 0., 1., 0.],\n",
       "       [0., 0., 0., 1.]])"
      ]
     },
     "execution_count": 18,
     "metadata": {},
     "output_type": "execute_result"
    }
   ],
   "source": [
    "A3 = np.eye(4)\n",
    "A3"
   ]
  },
  {
   "cell_type": "code",
   "execution_count": 23,
   "id": "90a0fefb",
   "metadata": {},
   "outputs": [
    {
     "data": {
      "text/plain": [
       "array([[0, 0, 0, 0, 0, 0, 0],\n",
       "       [0, 0, 0, 0, 0, 0, 0],\n",
       "       [0, 0, 0, 0, 0, 0, 0],\n",
       "       [0, 1, 0, 0, 0, 0, 0],\n",
       "       [0, 0, 2, 0, 0, 0, 0],\n",
       "       [0, 0, 0, 3, 0, 0, 0],\n",
       "       [0, 0, 0, 0, 4, 0, 0]])"
      ]
     },
     "execution_count": 23,
     "metadata": {},
     "output_type": "execute_result"
    }
   ],
   "source": [
    "a = np.arange(5)\n",
    "A4 = np.diag(a,-2)\n",
    "A4"
   ]
  },
  {
   "cell_type": "code",
   "execution_count": 25,
   "id": "13dfe6d3",
   "metadata": {},
   "outputs": [
    {
     "data": {
      "text/plain": [
       "array([[0, 1, 2],\n",
       "       [3, 4, 5],\n",
       "       [6, 7, 8]])"
      ]
     },
     "execution_count": 25,
     "metadata": {},
     "output_type": "execute_result"
    }
   ],
   "source": [
    "a = np.arange(9)\n",
    "A5 = a.reshape(3,3)\n",
    "A5"
   ]
  },
  {
   "cell_type": "code",
   "execution_count": 27,
   "id": "f00a4992",
   "metadata": {},
   "outputs": [
    {
     "data": {
      "text/plain": [
       "array([[0, 1, 2],\n",
       "       [0, 4, 5],\n",
       "       [0, 0, 8]])"
      ]
     },
     "execution_count": 27,
     "metadata": {},
     "output_type": "execute_result"
    }
   ],
   "source": [
    "np.triu(A5)"
   ]
  },
  {
   "cell_type": "code",
   "execution_count": 30,
   "id": "b36b3f33",
   "metadata": {},
   "outputs": [
    {
     "data": {
      "text/plain": [
       "array([[0, 0, 0],\n",
       "       [3, 0, 0],\n",
       "       [6, 7, 0]])"
      ]
     },
     "execution_count": 30,
     "metadata": {},
     "output_type": "execute_result"
    }
   ],
   "source": [
    "np.tril(A5,-1)"
   ]
  },
  {
   "cell_type": "code",
   "execution_count": 31,
   "id": "89163c55",
   "metadata": {},
   "outputs": [
    {
     "data": {
      "text/plain": [
       "array([[1, 2, 3],\n",
       "       [4, 5, 6]])"
      ]
     },
     "execution_count": 31,
     "metadata": {},
     "output_type": "execute_result"
    }
   ],
   "source": [
    "A2"
   ]
  },
  {
   "cell_type": "code",
   "execution_count": 32,
   "id": "daa5925a",
   "metadata": {},
   "outputs": [
    {
     "data": {
      "text/plain": [
       "array([[1. , 2. ],\n",
       "       [3. , 0.5]])"
      ]
     },
     "execution_count": 32,
     "metadata": {},
     "output_type": "execute_result"
    }
   ],
   "source": [
    "A"
   ]
  },
  {
   "cell_type": "code",
   "execution_count": 34,
   "id": "036f2a20",
   "metadata": {},
   "outputs": [
    {
     "data": {
      "text/plain": [
       "array([[2., 4.],\n",
       "       [6., 1.]])"
      ]
     },
     "execution_count": 34,
     "metadata": {},
     "output_type": "execute_result"
    }
   ],
   "source": [
    "A+A"
   ]
  },
  {
   "cell_type": "code",
   "execution_count": 35,
   "id": "8b61a17f",
   "metadata": {},
   "outputs": [
    {
     "data": {
      "text/plain": [
       "array([[2., 4.],\n",
       "       [6., 1.]])"
      ]
     },
     "execution_count": 35,
     "metadata": {},
     "output_type": "execute_result"
    }
   ],
   "source": [
    "A*2"
   ]
  },
  {
   "cell_type": "code",
   "execution_count": 37,
   "id": "7943b250",
   "metadata": {},
   "outputs": [
    {
     "data": {
      "text/plain": [
       "array([[1, 4],\n",
       "       [2, 5],\n",
       "       [3, 6]])"
      ]
     },
     "execution_count": 37,
     "metadata": {},
     "output_type": "execute_result"
    }
   ],
   "source": [
    "A6 = A2.T\n",
    "A6"
   ]
  },
  {
   "cell_type": "code",
   "execution_count": 42,
   "id": "16410837",
   "metadata": {},
   "outputs": [
    {
     "data": {
      "text/plain": [
       "array([[1.  , 4.  ],\n",
       "       [9.  , 0.25]])"
      ]
     },
     "execution_count": 42,
     "metadata": {},
     "output_type": "execute_result"
    }
   ],
   "source": [
    "A*A"
   ]
  },
  {
   "cell_type": "code",
   "execution_count": 46,
   "id": "6565ea3b",
   "metadata": {},
   "outputs": [
    {
     "data": {
      "text/plain": [
       "14.25"
      ]
     },
     "execution_count": 46,
     "metadata": {},
     "output_type": "execute_result"
    }
   ],
   "source": [
    "np.vdot(A,A)"
   ]
  },
  {
   "cell_type": "code",
   "execution_count": 43,
   "id": "4c2ef267",
   "metadata": {},
   "outputs": [
    {
     "data": {
      "text/plain": [
       "array([[7.  , 3.  ],\n",
       "       [4.5 , 6.25]])"
      ]
     },
     "execution_count": 43,
     "metadata": {},
     "output_type": "execute_result"
    }
   ],
   "source": [
    "np.dot(A,A)"
   ]
  },
  {
   "cell_type": "code",
   "execution_count": 41,
   "id": "6a0a2755",
   "metadata": {},
   "outputs": [
    {
     "data": {
      "text/plain": [
       "array([[13. ,  4. ],\n",
       "       [17. ,  6.5],\n",
       "       [21. ,  9. ]])"
      ]
     },
     "execution_count": 41,
     "metadata": {},
     "output_type": "execute_result"
    }
   ],
   "source": [
    "np.dot(A6,A)"
   ]
  },
  {
   "cell_type": "code",
   "execution_count": 47,
   "id": "4c81b5a7",
   "metadata": {},
   "outputs": [
    {
     "data": {
      "text/plain": [
       "array([[1., 0., 0., 0.],\n",
       "       [0., 1., 0., 0.],\n",
       "       [0., 0., 1., 0.],\n",
       "       [0., 0., 0., 1.]])"
      ]
     },
     "execution_count": 47,
     "metadata": {},
     "output_type": "execute_result"
    }
   ],
   "source": [
    "A3"
   ]
  },
  {
   "cell_type": "code",
   "execution_count": 49,
   "id": "799e5568",
   "metadata": {},
   "outputs": [
    {
     "data": {
      "text/plain": [
       "4.0"
      ]
     },
     "execution_count": 49,
     "metadata": {},
     "output_type": "execute_result"
    }
   ],
   "source": [
    "np.trace(A3)"
   ]
  },
  {
   "cell_type": "code",
   "execution_count": 243,
   "id": "4af6cc0f",
   "metadata": {},
   "outputs": [],
   "source": [
    "A7 = np.array([[1, 3, 4], [2, 1, 3], [2, 3, 7]])"
   ]
  },
  {
   "cell_type": "code",
   "execution_count": 244,
   "id": "5d2ec4f0",
   "metadata": {},
   "outputs": [
    {
     "data": {
      "text/plain": [
       "array([[1, 3, 4],\n",
       "       [2, 1, 3],\n",
       "       [2, 3, 7]])"
      ]
     },
     "execution_count": 244,
     "metadata": {},
     "output_type": "execute_result"
    }
   ],
   "source": [
    "A7"
   ]
  },
  {
   "cell_type": "code",
   "execution_count": 245,
   "id": "58857cf2",
   "metadata": {},
   "outputs": [
    {
     "data": {
      "text/plain": [
       "3"
      ]
     },
     "execution_count": 245,
     "metadata": {},
     "output_type": "execute_result"
    }
   ],
   "source": [
    "np.linalg.matrix_rank(A7)"
   ]
  },
  {
   "cell_type": "code",
   "execution_count": 246,
   "id": "bed65b96",
   "metadata": {},
   "outputs": [],
   "source": [
    "A7inv = np.linalg.inv(A7)"
   ]
  },
  {
   "cell_type": "code",
   "execution_count": 247,
   "id": "37114408",
   "metadata": {},
   "outputs": [
    {
     "data": {
      "text/plain": [
       "array([[ 1.,  0.,  0.],\n",
       "       [ 0.,  1.,  0.],\n",
       "       [ 0., -0.,  1.]])"
      ]
     },
     "execution_count": 247,
     "metadata": {},
     "output_type": "execute_result"
    }
   ],
   "source": [
    "np.dot(A7, A7inv).round(10)"
   ]
  },
  {
   "cell_type": "code",
   "execution_count": 249,
   "id": "98a7081a",
   "metadata": {},
   "outputs": [
    {
     "data": {
      "text/plain": [
       "(3, 3)"
      ]
     },
     "execution_count": 249,
     "metadata": {},
     "output_type": "execute_result"
    }
   ],
   "source": [
    "A7.shape"
   ]
  },
  {
   "cell_type": "markdown",
   "id": "45d9f783",
   "metadata": {},
   "source": [
    "### Least square method:"
   ]
  },
  {
   "cell_type": "markdown",
   "id": "14ec4787",
   "metadata": {},
   "source": [
    "$$\\hat w = (X^TX)^{-1}X^Ty$$"
   ]
  },
  {
   "cell_type": "code",
   "execution_count": 252,
   "id": "844d123e",
   "metadata": {},
   "outputs": [
    {
     "data": {
      "text/plain": [
       "array([[8, 3],\n",
       "       [3, 1]])"
      ]
     },
     "execution_count": 252,
     "metadata": {},
     "output_type": "execute_result"
    }
   ],
   "source": [
    "X = np.array([[8, 3], [3, 1]])\n",
    "X"
   ]
  },
  {
   "cell_type": "code",
   "execution_count": 253,
   "id": "9d2757c6",
   "metadata": {},
   "outputs": [
    {
     "data": {
      "text/plain": [
       "array([[2],\n",
       "       [4]])"
      ]
     },
     "execution_count": 253,
     "metadata": {},
     "output_type": "execute_result"
    }
   ],
   "source": [
    "y = np.array([2, 4]).reshape(2, 1)\n",
    "y"
   ]
  },
  {
   "cell_type": "code",
   "execution_count": 254,
   "id": "b64623a4",
   "metadata": {},
   "outputs": [
    {
     "data": {
      "text/plain": [
       "array([[ 10.],\n",
       "       [-26.]])"
      ]
     },
     "execution_count": 254,
     "metadata": {},
     "output_type": "execute_result"
    }
   ],
   "source": [
    "np.linalg.inv(X.T.dot(X)).dot(X.T).dot(y)"
   ]
  },
  {
   "cell_type": "markdown",
   "id": "dde704d7",
   "metadata": {},
   "source": [
    "therefore y = 10x - 26"
   ]
  },
  {
   "cell_type": "code",
   "execution_count": 256,
   "id": "02388e52",
   "metadata": {},
   "outputs": [
    {
     "data": {
      "text/plain": [
       "(array([[ 10.],\n",
       "        [-26.]]),\n",
       " array([], dtype=float64),\n",
       " 2,\n",
       " array([9.10977223, 0.10977223]))"
      ]
     },
     "execution_count": 256,
     "metadata": {},
     "output_type": "execute_result"
    }
   ],
   "source": [
    "np.linalg.lstsq(X,y, rcond=-1)"
   ]
  },
  {
   "cell_type": "markdown",
   "id": "b6de314a",
   "metadata": {},
   "source": [
    "## Linear Regression manually"
   ]
  },
  {
   "cell_type": "code",
   "execution_count": 3,
   "id": "95877f64",
   "metadata": {},
   "outputs": [],
   "source": [
    "from ML_basic_function import *"
   ]
  },
  {
   "cell_type": "code",
   "execution_count": 4,
   "id": "a897b68b",
   "metadata": {},
   "outputs": [],
   "source": [
    "np.random.seed(24)"
   ]
  },
  {
   "cell_type": "code",
   "execution_count": 5,
   "id": "0def3c32",
   "metadata": {},
   "outputs": [],
   "source": [
    "features, labels = arrayGenReg(delta=0.01)"
   ]
  },
  {
   "cell_type": "code",
   "execution_count": 6,
   "id": "d98e55b9",
   "metadata": {},
   "outputs": [
    {
     "data": {
      "text/plain": [
       "array([[ 1.32921217, -0.77003345,  1.        ],\n",
       "       [-0.31628036, -0.99081039,  1.        ],\n",
       "       [-1.07081626, -1.43871328,  1.        ],\n",
       "       ...,\n",
       "       [ 1.5507578 , -0.35986144,  1.        ],\n",
       "       [-1.36267161, -0.61353562,  1.        ],\n",
       "       [-1.44029131,  0.50439425,  1.        ]])"
      ]
     },
     "execution_count": 6,
     "metadata": {},
     "output_type": "execute_result"
    }
   ],
   "source": [
    "features"
   ]
  },
  {
   "cell_type": "markdown",
   "id": "b392258d",
   "metadata": {},
   "source": [
    "$SSE= ||y - X\\hat w||_2^2 = (y - \\hat y)^T(y - \\hat y)$"
   ]
  },
  {
   "cell_type": "code",
   "execution_count": 7,
   "id": "b80e31be",
   "metadata": {},
   "outputs": [
    {
     "data": {
      "text/plain": [
       "array([[ 1.32921217],\n",
       "       [-0.77003345],\n",
       "       [-0.31628036]])"
      ]
     },
     "execution_count": 7,
     "metadata": {},
     "output_type": "execute_result"
    }
   ],
   "source": [
    "np.random.seed(24)\n",
    "w = np.random.randn(3).reshape(-1,1)\n",
    "w"
   ]
  },
  {
   "cell_type": "code",
   "execution_count": 9,
   "id": "30325e25",
   "metadata": {},
   "outputs": [
    {
     "data": {
      "text/plain": [
       "array([[ 2.04347616],\n",
       "       [ 0.02627308],\n",
       "       [-0.63176501],\n",
       "       [ 0.20623364],\n",
       "       [-2.64718921],\n",
       "       [-0.86880796],\n",
       "       [ 0.88171608],\n",
       "       [-1.61055557],\n",
       "       [ 0.80113619],\n",
       "       [-0.49279524]])"
      ]
     },
     "execution_count": 9,
     "metadata": {},
     "output_type": "execute_result"
    }
   ],
   "source": [
    "y_hat = features.dot(w)\n",
    "y_hat[:10]"
   ]
  },
  {
   "cell_type": "code",
   "execution_count": 12,
   "id": "91ee42a8",
   "metadata": {},
   "outputs": [
    {
     "data": {
      "text/plain": [
       "array([[2093.52940481]])"
      ]
     },
     "execution_count": 12,
     "metadata": {},
     "output_type": "execute_result"
    }
   ],
   "source": [
    "(labels - y_hat).T.dot(labels - y_hat)"
   ]
  },
  {
   "cell_type": "code",
   "execution_count": 13,
   "id": "316396a8",
   "metadata": {},
   "outputs": [
    {
     "data": {
      "text/plain": [
       "array([[2.0935294]])"
      ]
     },
     "execution_count": 13,
     "metadata": {},
     "output_type": "execute_result"
    }
   ],
   "source": [
    "# MSE\n",
    "(labels - y_hat).T.dot(labels - y_hat)/len(labels)"
   ]
  },
  {
   "cell_type": "code",
   "execution_count": 14,
   "id": "7211f044",
   "metadata": {},
   "outputs": [],
   "source": [
    "def SSELoss(X, w, y):\n",
    "    \"\"\"\n",
    "    SSE calculation function\n",
    "    \n",
    "    :param X：features\n",
    "    :param w：weights\n",
    "    :param y：labels\n",
    "    :return SSE：\n",
    "    \"\"\"\n",
    "    y_hat = X.dot(w)\n",
    "    SSE = (y - y_hat).T.dot(y - y_hat)\n",
    "    return SSE"
   ]
  },
  {
   "cell_type": "code",
   "execution_count": 15,
   "id": "c82804b0",
   "metadata": {},
   "outputs": [
    {
     "data": {
      "text/plain": [
       "array([[2093.52940481]])"
      ]
     },
     "execution_count": 15,
     "metadata": {},
     "output_type": "execute_result"
    }
   ],
   "source": [
    "SSELoss(features, w, labels)"
   ]
  },
  {
   "cell_type": "code",
   "execution_count": 17,
   "id": "15ed7154",
   "metadata": {},
   "outputs": [
    {
     "data": {
      "text/plain": [
       "967456500.179829"
      ]
     },
     "execution_count": 17,
     "metadata": {},
     "output_type": "execute_result"
    }
   ],
   "source": [
    "# Check if $X^TX$ exists\n",
    "np.linalg.det(features.T.dot(features))"
   ]
  },
  {
   "cell_type": "markdown",
   "id": "9de88cd2",
   "metadata": {},
   "source": [
    "&emsp;&emsp;行列式不为0，因此$X^TX$逆矩阵存在，可以通过最小二乘法求解。具体求解方法分为两种，其一是使用NumPy中线性代数基本方法，根据上述公式进行求解，同时也可以直接使用lstsq函数进行求解。"
   ]
  },
  {
   "cell_type": "code",
   "execution_count": 29,
   "id": "af3a74a3",
   "metadata": {},
   "outputs": [
    {
     "data": {
      "text/plain": [
       "array([[ 1.99961892],\n",
       "       [-0.99985281],\n",
       "       [ 0.99970541]])"
      ]
     },
     "execution_count": 29,
     "metadata": {},
     "output_type": "execute_result"
    }
   ],
   "source": [
    "w = np.linalg.inv(features.T.dot(features)).dot(features.T).dot(labels)\n",
    "w"
   ]
  },
  {
   "cell_type": "code",
   "execution_count": 30,
   "id": "bacf0b3a",
   "metadata": {},
   "outputs": [],
   "source": [
    "y_hat = features.dot(w)"
   ]
  },
  {
   "cell_type": "code",
   "execution_count": 19,
   "id": "0fc05ad9",
   "metadata": {},
   "outputs": [
    {
     "data": {
      "text/plain": [
       "array([[0.09300731]])"
      ]
     },
     "execution_count": 19,
     "metadata": {},
     "output_type": "execute_result"
    }
   ],
   "source": [
    "SSELoss(features, w, labels)"
   ]
  },
  {
   "cell_type": "code",
   "execution_count": 21,
   "id": "7df446f4",
   "metadata": {},
   "outputs": [
    {
     "data": {
      "text/plain": [
       "array([[9.30073138e-05]])"
      ]
     },
     "execution_count": 21,
     "metadata": {},
     "output_type": "execute_result"
    }
   ],
   "source": [
    "SSELoss(features, w, labels) / len(labels)"
   ]
  },
  {
   "cell_type": "markdown",
   "id": "51ee61ee",
   "metadata": {},
   "source": [
    "$$SSR =\\sum^{n}_{i=1}(\\bar{y_i}-\\hat{y_i})^2$$"
   ]
  },
  {
   "cell_type": "markdown",
   "id": "0ce537e1",
   "metadata": {},
   "source": [
    "$$SST =\\sum^{n}_{i=1}(\\bar{y_i}-y_i)^2$$"
   ]
  },
  {
   "cell_type": "markdown",
   "id": "20e5ec95",
   "metadata": {},
   "source": [
    "$$R-square=\\frac{SSR}{SST}=\\frac{SST-SSE}{SSE}=1-\\frac{SSE}{SST}$$"
   ]
  },
  {
   "cell_type": "markdown",
   "id": "cbf7334c",
   "metadata": {},
   "source": [
    "except for the SSE, the model can be evaluated by R2, which can be calculated according to above function."
   ]
  },
  {
   "cell_type": "code",
   "execution_count": 31,
   "id": "4df5af54",
   "metadata": {},
   "outputs": [],
   "source": [
    "ssr = np.power(labels.mean() - y_hat, 2).sum()\n",
    "sst = np.power(labels.mean() - labels, 2).sum()"
   ]
  },
  {
   "cell_type": "code",
   "execution_count": 32,
   "id": "43d1a2a7",
   "metadata": {},
   "outputs": [],
   "source": [
    "r2 = ssr/sst"
   ]
  },
  {
   "cell_type": "code",
   "execution_count": 33,
   "id": "81e76a66",
   "metadata": {},
   "outputs": [
    {
     "data": {
      "text/plain": [
       "0.9999811429939424"
      ]
     },
     "execution_count": 33,
     "metadata": {},
     "output_type": "execute_result"
    }
   ],
   "source": [
    "r2"
   ]
  },
  {
   "cell_type": "code",
   "execution_count": 42,
   "id": "e1df3ded",
   "metadata": {},
   "outputs": [],
   "source": [
    "x = np.linspace(-10,10,100)"
   ]
  },
  {
   "cell_type": "code",
   "execution_count": 43,
   "id": "d49b7ccd",
   "metadata": {},
   "outputs": [
    {
     "data": {
      "text/plain": [
       "array([-10.        ,  -9.7979798 ,  -9.5959596 ,  -9.39393939,\n",
       "        -9.19191919,  -8.98989899,  -8.78787879,  -8.58585859,\n",
       "        -8.38383838,  -8.18181818,  -7.97979798,  -7.77777778,\n",
       "        -7.57575758,  -7.37373737,  -7.17171717,  -6.96969697,\n",
       "        -6.76767677,  -6.56565657,  -6.36363636,  -6.16161616,\n",
       "        -5.95959596,  -5.75757576,  -5.55555556,  -5.35353535,\n",
       "        -5.15151515,  -4.94949495,  -4.74747475,  -4.54545455,\n",
       "        -4.34343434,  -4.14141414,  -3.93939394,  -3.73737374,\n",
       "        -3.53535354,  -3.33333333,  -3.13131313,  -2.92929293,\n",
       "        -2.72727273,  -2.52525253,  -2.32323232,  -2.12121212,\n",
       "        -1.91919192,  -1.71717172,  -1.51515152,  -1.31313131,\n",
       "        -1.11111111,  -0.90909091,  -0.70707071,  -0.50505051,\n",
       "        -0.3030303 ,  -0.1010101 ,   0.1010101 ,   0.3030303 ,\n",
       "         0.50505051,   0.70707071,   0.90909091,   1.11111111,\n",
       "         1.31313131,   1.51515152,   1.71717172,   1.91919192,\n",
       "         2.12121212,   2.32323232,   2.52525253,   2.72727273,\n",
       "         2.92929293,   3.13131313,   3.33333333,   3.53535354,\n",
       "         3.73737374,   3.93939394,   4.14141414,   4.34343434,\n",
       "         4.54545455,   4.74747475,   4.94949495,   5.15151515,\n",
       "         5.35353535,   5.55555556,   5.75757576,   5.95959596,\n",
       "         6.16161616,   6.36363636,   6.56565657,   6.76767677,\n",
       "         6.96969697,   7.17171717,   7.37373737,   7.57575758,\n",
       "         7.77777778,   7.97979798,   8.18181818,   8.38383838,\n",
       "         8.58585859,   8.78787879,   8.98989899,   9.19191919,\n",
       "         9.39393939,   9.5959596 ,   9.7979798 ,  10.        ])"
      ]
     },
     "execution_count": 43,
     "metadata": {},
     "output_type": "execute_result"
    }
   ],
   "source": [
    "x"
   ]
  },
  {
   "cell_type": "code",
   "execution_count": 44,
   "id": "dd07fd2d",
   "metadata": {},
   "outputs": [
    {
     "data": {
      "text/plain": [
       "-7.105427357601002e-17"
      ]
     },
     "execution_count": 44,
     "metadata": {},
     "output_type": "execute_result"
    }
   ],
   "source": [
    "x.mean()"
   ]
  },
  {
   "cell_type": "code",
   "execution_count": 45,
   "id": "e4a8a827",
   "metadata": {},
   "outputs": [],
   "source": [
    "y = (x -x.mean())/x.std()"
   ]
  },
  {
   "cell_type": "code",
   "execution_count": 46,
   "id": "3c162421",
   "metadata": {},
   "outputs": [
    {
     "data": {
      "text/plain": [
       "array([-1.71481604, -1.68017329, -1.64553055, -1.6108878 , -1.57624505,\n",
       "       -1.5416023 , -1.50695955, -1.4723168 , -1.43767406, -1.40303131,\n",
       "       -1.36838856, -1.33374581, -1.29910306, -1.26446031, -1.22981757,\n",
       "       -1.19517482, -1.16053207, -1.12588932, -1.09124657, -1.05660382,\n",
       "       -1.02196108, -0.98731833, -0.95267558, -0.91803283, -0.88339008,\n",
       "       -0.84874733, -0.81410459, -0.77946184, -0.74481909, -0.71017634,\n",
       "       -0.67553359, -0.64089084, -0.6062481 , -0.57160535, -0.5369626 ,\n",
       "       -0.50231985, -0.4676771 , -0.43303435, -0.39839161, -0.36374886,\n",
       "       -0.32910611, -0.29446336, -0.25982061, -0.22517786, -0.19053512,\n",
       "       -0.15589237, -0.12124962, -0.08660687, -0.05196412, -0.01732137,\n",
       "        0.01732137,  0.05196412,  0.08660687,  0.12124962,  0.15589237,\n",
       "        0.19053512,  0.22517786,  0.25982061,  0.29446336,  0.32910611,\n",
       "        0.36374886,  0.39839161,  0.43303435,  0.4676771 ,  0.50231985,\n",
       "        0.5369626 ,  0.57160535,  0.6062481 ,  0.64089084,  0.67553359,\n",
       "        0.71017634,  0.74481909,  0.77946184,  0.81410459,  0.84874733,\n",
       "        0.88339008,  0.91803283,  0.95267558,  0.98731833,  1.02196108,\n",
       "        1.05660382,  1.09124657,  1.12588932,  1.16053207,  1.19517482,\n",
       "        1.22981757,  1.26446031,  1.29910306,  1.33374581,  1.36838856,\n",
       "        1.40303131,  1.43767406,  1.4723168 ,  1.50695955,  1.5416023 ,\n",
       "        1.57624505,  1.6108878 ,  1.64553055,  1.68017329,  1.71481604])"
      ]
     },
     "execution_count": 46,
     "metadata": {},
     "output_type": "execute_result"
    }
   ],
   "source": [
    "y"
   ]
  },
  {
   "cell_type": "code",
   "execution_count": 47,
   "id": "5b1b5c90",
   "metadata": {},
   "outputs": [
    {
     "data": {
      "text/plain": [
       "[<matplotlib.lines.Line2D at 0x225adc88d30>]"
      ]
     },
     "execution_count": 47,
     "metadata": {},
     "output_type": "execute_result"
    },
    {
     "data": {
      "image/png": "[encoded data removed]",
      "text/plain": [
       "<Figure size 432x288 with 1 Axes>"
      ]
     },
     "metadata": {
      "needs_background": "light"
     },
     "output_type": "display_data"
    }
   ],
   "source": [
    "plt.plot(x, y)"
   ]
  },
  {
   "cell_type": "code",
   "execution_count": null,
   "id": "77cffbc0",
   "metadata": {},
   "outputs": [],
   "source": []
  }
 ],
 "metadata": {
  "kernelspec": {
   "display_name": "Python 3 (ipykernel)",
   "language": "python",
   "name": "python3"
  },
  "language_info": {
   "codemirror_mode": {
    "name": "ipython",
    "version": 3
   },
   "file_extension": ".py",
   "mimetype": "text/x-python",
   "name": "python",
   "nbconvert_exporter": "python",
   "pygments_lexer": "ipython3",
   "version": "3.9.12"
  }
 },
 "nbformat": 4,
 "nbformat_minor": 5
}
